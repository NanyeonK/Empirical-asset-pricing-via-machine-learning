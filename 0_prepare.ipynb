{
 "cells": [
  {
   "cell_type": "code",
   "execution_count": 2,
   "metadata": {},
   "outputs": [
    {
     "name": "stderr",
     "output_type": "stream",
     "text": [
      "c:\\Users\\YeonChan Kang\\anaconda3\\envs\\fdb\\lib\\site-packages\\pandas\\core\\arrays\\masked.py:60: UserWarning: Pandas requires version '1.3.6' or newer of 'bottleneck' (version '1.3.5' currently installed).\n",
      "  from pandas.core import (\n"
     ]
    }
   ],
   "source": [
    "import pandas as pd\n",
    "import numpy as np"
   ]
  },
  {
   "cell_type": "code",
   "execution_count": null,
   "metadata": {},
   "outputs": [],
   "source": [
    "from sklearn.preprocessing import minmax_scale"
   ]
  },
  {
   "cell_type": "markdown",
   "metadata": {},
   "source": [
    "# Data Prepare"
   ]
  },
  {
   "cell_type": "markdown",
   "metadata": {},
   "source": [
    "Data is from Dachang Xiu's homepage: https://dachxiu.chicagobooth.edu/.   \n",
    "You can download at \"Empirical Asset Pricing via Machine Learning\"   \n",
    "This version uses UPDATED June 2021 version.   "
   ]
  },
  {
   "cell_type": "code",
   "execution_count": 5,
   "metadata": {},
   "outputs": [],
   "source": [
    "data = pd.read_csv('C:/Users/YeonChan Kang/Desktop/Local_repo/Empirical-asset-pricing-via-machine-learning/datashare.csv')"
   ]
  },
  {
   "cell_type": "markdown",
   "metadata": {},
   "source": [
    "## Preprocess"
   ]
  },
  {
   "cell_type": "code",
   "execution_count": null,
   "metadata": {},
   "outputs": [],
   "source": [
    "# Filling missing data\n",
    "def fill_na(data_ch, chs):\n",
    "    for ch in chs:\n",
    "        data_ch[ch] = data_ch.groupby"
   ]
  },
  {
   "cell_type": "code",
   "execution_count": null,
   "metadata": {},
   "outputs": [],
   "source": [
    "# cross-sectional transformation to [-1,1] in ch\n",
    "def XS_MinMax_ch(data_ch, characteristics):\n",
    "    for ch in characteristics:\n",
    "         data_ch[ch] = data_ch.groupby('DATE')[ch].transform(lambda x: minmax_scale(np.array(x).reshape((len(x),1)),(-1,1)).flatten())\n",
    "    return data_ch\n",
    "\n",
    "# cross-sectional transformation to [-1,1] in macro\n",
    "def XS_MinMax_ma(data, characteristics):\n",
    "    for ch in characteristics:\n",
    "         data[ch] = minmax_scale(np.array(data[ch]).reshape((len(data[ch]),1)),(-1,1)).flatten()\n",
    "    return data"
   ]
  },
  {
   "cell_type": "markdown",
   "metadata": {},
   "source": []
  }
 ],
 "metadata": {
  "kernelspec": {
   "display_name": "fdb",
   "language": "python",
   "name": "python3"
  },
  "language_info": {
   "codemirror_mode": {
    "name": "ipython",
    "version": 3
   },
   "file_extension": ".py",
   "mimetype": "text/x-python",
   "name": "python",
   "nbconvert_exporter": "python",
   "pygments_lexer": "ipython3",
   "version": "3.9.18"
  }
 },
 "nbformat": 4,
 "nbformat_minor": 2
}
